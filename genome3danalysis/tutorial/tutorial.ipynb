{
 "cells": [
  {
   "cell_type": "code",
   "execution_count": 1,
   "metadata": {},
   "outputs": [],
   "source": [
    "import numpy as np\n",
    "import h5py\n",
    "from alabtools.utils import Index"
   ]
  },
  {
   "cell_type": "code",
   "execution_count": 2,
   "metadata": {},
   "outputs": [],
   "source": [
    "# Load the data with h5py\n",
    "h5_name = './igm-model_mcrb_2.5MB.sf.h5'\n",
    "h5 = h5py.File(h5_name, 'r')"
   ]
  },
  {
   "cell_type": "code",
   "execution_count": 3,
   "metadata": {},
   "outputs": [],
   "source": [
    "# Get the Index from the h5 file\n",
    "index = Index(h5)"
   ]
  },
  {
   "cell_type": "code",
   "execution_count": 5,
   "metadata": {},
   "outputs": [
    {
     "name": "stdout",
     "output_type": "stream",
     "text": [
      "<class 'numpy.ndarray'>\n",
      "<class 'numpy.ndarray'>\n",
      "<class 'numpy.ndarray'>\n",
      "<class 'numpy.ndarray'>\n",
      "(2094,)\n",
      "(2094,)\n",
      "(2094,)\n",
      "(2094,)\n",
      "['chr1' 'chr1' 'chr1' 'chr1' 'chr1' 'chr1' 'chr1' 'chr1' 'chr1' 'chr1']\n",
      "[       0  2500000  5000000  7500000 10000000 12500000 15000000 17500000\n",
      " 20000000 22500000]\n",
      "[ 2500000  5000000  7500000 10000000 12500000 15000000 17500000 20000000\n",
      " 22500000 25000000]\n",
      "[0 0 0 0 0 0 0 0 0 0]\n"
     ]
    }
   ],
   "source": [
    "# Data of the index: chromstr, start, end, copy\n",
    "\n",
    "# Print the types\n",
    "print(type(index.chromstr))\n",
    "print(type(index.start))\n",
    "print(type(index.end))\n",
    "print(type(index.copy))\n",
    "\n",
    "# Print the shapes\n",
    "print(index.chromstr.shape)\n",
    "print(index.start.shape)\n",
    "print(index.end.shape)\n",
    "print(index.copy.shape)\n",
    "\n",
    "# Print the first 10 elements\n",
    "print(index.chromstr[:10])\n",
    "print(index.start[:10])\n",
    "print(index.end[:10])\n",
    "print(index.copy[:10])"
   ]
  },
  {
   "cell_type": "code",
   "execution_count": 6,
   "metadata": {},
   "outputs": [
    {
     "name": "stdout",
     "output_type": "stream",
     "text": [
      "['genome', 'icp', 'index', 'lamina', 'lamina_tsa', 'nucleoli', 'nucleoli_tsa', 'radial', 'rg', 'speckle', 'speckle_tsa', 'transAB']\n"
     ]
    }
   ],
   "source": [
    "# Print all the groups of the h5 file\n",
    "print(list(h5.keys()))"
   ]
  },
  {
   "cell_type": "code",
   "execution_count": 7,
   "metadata": {},
   "outputs": [],
   "source": [
    "# Get the single-cell matrix of the 'transAB' feature\n",
    "feat_mat = h5['transAB']['matrix'][:]"
   ]
  },
  {
   "cell_type": "code",
   "execution_count": 8,
   "metadata": {},
   "outputs": [
    {
     "name": "stdout",
     "output_type": "stream",
     "text": [
      "<class 'numpy.ndarray'>\n",
      "(2094, 100)\n",
      "[[0.2        0.4        0.8        0.70833333 0.22222222 0.375\n",
      "  0.47222222 0.3255814  0.16666667 1.        ]\n",
      " [0.17241379 0.47727273 0.72727273 0.60526316 0.28947368 0.21875\n",
      "  0.45714286 0.21666667 0.25       0.55      ]\n",
      " [0.19047619 0.425      0.61538462 0.5483871  0.29545455 0.35483871\n",
      "  0.48484848 0.24193548 0.         0.51612903]\n",
      " [0.35714286 0.36111111 0.44444444 0.65       0.28301887 0.33333333\n",
      "  0.54166667 0.25423729 0.2        0.5       ]\n",
      " [0.46666667 0.50847458 0.52631579 0.375      0.34146341 0.52631579\n",
      "  0.3        0.24137931 0.28       0.57142857]\n",
      " [0.14285714 0.42857143 0.54545455 0.6        0.30769231 0.35714286\n",
      "  0.41666667 0.25423729 0.30434783 0.56      ]\n",
      " [0.23809524 0.4        0.47619048 0.34615385 0.33333333 0.5\n",
      "  0.52380952 0.23255814 0.4        0.61111111]\n",
      " [0.5        0.33962264 0.41935484 0.64864865 0.25925926 0.69230769\n",
      "  0.25       0.32352941 0.40384615 0.42424242]\n",
      " [0.66666667 0.35714286 0.63636364 0.375      0.43478261 0.68181818\n",
      "  0.6        0.37931034 0.59574468 0.20689655]\n",
      " [0.37037037 0.43243243 0.75471698 0.58333333 0.5        0.47058824\n",
      "  0.57142857 0.4        0.54716981 0.19230769]]\n"
     ]
    }
   ],
   "source": [
    "# The feature matrix is a numpy array of shape (len(index), nstruct),\n",
    "# where len(index) is the total number of beads, encompassing all chromosomes and copies\n",
    "\n",
    "print(type(feat_mat))\n",
    "print(feat_mat.shape)\n",
    "print(feat_mat[:10, :10])"
   ]
  },
  {
   "cell_type": "code",
   "execution_count": 9,
   "metadata": {},
   "outputs": [
    {
     "name": "stdout",
     "output_type": "stream",
     "text": [
      "(59,)\n",
      "[0.55263158 0.37142857 0.19148936 0.30555556 0.34782609 0.27027027\n",
      " 0.37837838 0.42857143 0.5        0.35483871 0.32432432 0.43333333\n",
      " 0.4        0.3902439  0.41818182 0.42       0.33333333 0.5\n",
      " 0.69565217 0.4375     0.22222222 0.28070175 0.46938776 0.61702128\n",
      " 0.32432432 0.65384615 0.66666667 0.26086957 0.3902439  0.42857143\n",
      " 0.58       0.5        0.49090909 0.41269841 0.25396825 0.33333333\n",
      " 0.39655172 0.39344262 0.3125     0.63414634 0.81578947 0.40540541\n",
      " 0.23333333 0.71428571 0.54901961 0.73469388 0.72093023 0.47058824\n",
      " 0.66666667 0.55555556 0.68421053 0.7962963  0.66666667 0.49152542\n",
      " 0.63829787 0.62745098 0.60416667 0.5        0.65517241]\n"
     ]
    }
   ],
   "source": [
    "# As an example, get the feature matrix of chromosome 7 copy B for structure 25\n",
    "structID = 25\n",
    "chrom = 'chr7'\n",
    "copy = 1\n",
    "\n",
    "data = feat_mat[np.logical_and(index.chromstr == chrom, index.copy == copy), structID]\n",
    "print(data.shape)\n",
    "print(data)"
   ]
  },
  {
   "cell_type": "code",
   "execution_count": null,
   "metadata": {},
   "outputs": [],
   "source": []
  }
 ],
 "metadata": {
  "kernelspec": {
   "display_name": "gen3d_dev",
   "language": "python",
   "name": "python3"
  },
  "language_info": {
   "codemirror_mode": {
    "name": "ipython",
    "version": 3
   },
   "file_extension": ".py",
   "mimetype": "text/x-python",
   "name": "python",
   "nbconvert_exporter": "python",
   "pygments_lexer": "ipython3",
   "version": "3.7.3"
  }
 },
 "nbformat": 4,
 "nbformat_minor": 2
}
